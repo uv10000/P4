{
 "cells": [
  {
   "cell_type": "code",
   "execution_count": null,
   "metadata": {},
   "outputs": [],
   "source": []
  },
  {
   "cell_type": "code",
   "execution_count": 1,
   "metadata": {},
   "outputs": [
    {
     "name": "stderr",
     "output_type": "stream",
     "text": [
      "/home/voll/anaconda3/envs/carnd-term1/lib/python3.5/importlib/_bootstrap.py:222: RuntimeWarning: numpy.dtype size changed, may indicate binary incompatibility. Expected 96, got 88\n",
      "  return f(*args, **kwds)\n",
      "Using TensorFlow backend.\n",
      "/home/voll/anaconda3/envs/carnd-term1/lib/python3.5/importlib/_bootstrap.py:222: RuntimeWarning: numpy.dtype size changed, may indicate binary incompatibility. Expected 96, got 88\n",
      "  return f(*args, **kwds)\n",
      "/home/voll/anaconda3/envs/carnd-term1/lib/python3.5/importlib/_bootstrap.py:222: RuntimeWarning: numpy.dtype size changed, may indicate binary incompatibility. Expected 96, got 88\n",
      "  return f(*args, **kwds)\n",
      "/home/voll/anaconda3/envs/carnd-term1/lib/python3.5/importlib/_bootstrap.py:222: RuntimeWarning: numpy.dtype size changed, may indicate binary incompatibility. Expected 96, got 88\n",
      "  return f(*args, **kwds)\n",
      "/home/voll/anaconda3/envs/carnd-term1/lib/python3.5/importlib/_bootstrap.py:222: RuntimeWarning: numpy.dtype size changed, may indicate binary incompatibility. Expected 96, got 88\n",
      "  return f(*args, **kwds)\n",
      "/home/voll/anaconda3/envs/carnd-term1/lib/python3.5/importlib/_bootstrap.py:222: RuntimeWarning: numpy.dtype size changed, may indicate binary incompatibility. Expected 96, got 88\n",
      "  return f(*args, **kwds)\n"
     ]
    },
    {
     "name": "stdout",
     "output_type": "stream",
     "text": [
      "8036\n",
      "6428\n",
      "1608\n"
     ]
    }
   ],
   "source": [
    "import os\n",
    "import csv\n",
    "import cv2\n",
    "import numpy as np\n",
    "import keras\n",
    "from scipy import ndimage\n",
    "from random import shuffle\n",
    "\n",
    "\n",
    "\n",
    "lines=[]\n",
    "with open('data/data/driving_log.csv') as csvfile:\n",
    "    reader=csv.reader(csvfile)\n",
    "    i_have_seen_firstline=False\n",
    "    for line in reader:\n",
    "        if i_have_seen_firstline:\n",
    "            lines.append(line)\n",
    "        else:\n",
    "            i_have_seen_firstline = True\n",
    "#           \n",
    "print(len(lines))\n",
    "\n",
    "#\n",
    "import sklearn\n",
    "\n",
    "from sklearn.model_selection import train_test_split\n",
    "train_samples, validation_samples = train_test_split(lines, test_size=0.2)  \n",
    "\n",
    "print(len(train_samples))\n",
    "print(len(validation_samples))\n",
    "\n",
    "\n",
    "\n",
    "def generator(samples, batch_size=32):\n",
    "    num_samples = len(samples)\n",
    "    while 1: # Loop forever so the generator never terminates\n",
    "        shuffle(samples)\n",
    "        for offset in range(0, num_samples, batch_size):\n",
    "            batch_samples = samples[offset:offset+batch_size]\n",
    "\n",
    "            images = []\n",
    "            angles = []\n",
    "            for batch_sample in batch_samples:\n",
    "                #name = './IMG/'+batch_sample[0].split('/')[-1]\n",
    "                current_path = 'data/data/IMG/' + batch_sample[0].split('/')[-1] \n",
    "                current_left_path = 'data/data/IMG/' + batch_sample[1].split('/')[-1] \n",
    "                current_right_path = 'data/data/IMG/' + batch_sample[2].split('/')[-1] \n",
    "                #center_image = cv2.imread(current_path)\n",
    "                center_image = ndimage.imread(current_path)\n",
    "                left_image = ndimage.imread(current_left_path) \n",
    "                right_image = ndimage.imread(current_right_path)\n",
    "                #center_image = cv2.cvtColor(ndimage.imread(current_path), cv2.COLOR_RBG2YUV)\n",
    "                #left_image = cv2.cvtColor(ndimage.imread(current_left_path) , cv2.COLOR_RBG2YUV)\n",
    "                #right_image = cv2.cvtColor(ndimage.imread(current_right_path), cv2.COLOR_RBG2YUV)\n",
    "                center_angle = float(batch_sample[3])\n",
    "                correction = 0.003  # this is a parameter to tune 0.03 was not bad\n",
    "                left_angle = center_angle + correction\n",
    "                right_angle = center_angle - correction\n",
    "                #left_angle = center_angle *1.15\n",
    "                #ight_angle = center_angle - 1.15\n",
    "                use_all_cameras = True\n",
    "                if use_all_cameras:\n",
    "                    images.extend([center_image, left_image,right_image])\n",
    "                    angles.extend([center_angle,left_angle,right_angle])\n",
    "                else:\n",
    "                    images.append(center_image)\n",
    "                    angles.extend(center_angle)\n",
    "                    \n",
    "                \n",
    "            augment_by_flipping=True\n",
    "            if augment_by_flipping:\n",
    "                augmented_images, augmented_angles = [],[]\n",
    "                for image,angle in zip(images, angles):\n",
    "                    augmented_images.append(image)\n",
    "                    augmented_angles.append(angle)\n",
    "                        #augmented_images.append(cv2.flip(image,1))\n",
    "                    augmented_images.append(np.fliplr(image))\n",
    "                    augmented_angles.append(angle*-1.0)\n",
    "            else:\n",
    "                augmented_images, augmented_angles =images,angles\n",
    "\n",
    "            # trim image to only see section with road\n",
    "            X_train = np.array(augmented_images)\n",
    "            y_train = np.array(augmented_angles)\n",
    "            yield sklearn.utils.shuffle(X_train, y_train)\n",
    "\n",
    "#images=[]\n",
    "#measurements=[]\n",
    "#for line in lines:\n",
    "#    source_path = line[0]\n",
    "#    filename= source_path.split('/')[-1]\n",
    "#    current_path = 'data/data/IMG/' + filename\n",
    "#    #image=cv2.imread(current_path)\n",
    "#    image = ndimage.imread(current_path)\n",
    "#    images.append(image)\n",
    "#    measurement=float(line[3])\n",
    "#    measurements.append(measurement)\n",
    "    \n",
    "#False\n",
    "#augment_by_flipping=False\n",
    "#if augment_by_flipping:\n",
    "#    augmented_images, augmented_measurements = [],[]\n",
    "#    for image,measurement in zip(images, measurements):\n",
    "#        augmented_images.append(image)\n",
    "#        augmented_measurements.append(measurement)\n",
    "#        augmented_images.append(cv2.flip(image,1))\n",
    "#        augmented_measurements.append(measurement*-1.0)\n",
    "#else:\n",
    "#    None\n",
    "#    augmented_images, augmented_measurements =images,measurements\n",
    "    \n",
    "    \n",
    "\n",
    "#X_train = np.array(augmented_images)\n",
    "#y_train = np.array(augmented_measurements)"
   ]
  },
  {
   "cell_type": "code",
   "execution_count": null,
   "metadata": {},
   "outputs": [],
   "source": [
    "\n"
   ]
  },
  {
   "cell_type": "code",
   "execution_count": 2,
   "metadata": {},
   "outputs": [],
   "source": [
    "#print(X_train.shape)\n",
    "#print(np.mean(y_train**2* 180/3.14*16)) # convert from rad to deg and then to steerin-WEEL-angle \n"
   ]
  },
  {
   "cell_type": "code",
   "execution_count": 3,
   "metadata": {
    "scrolled": true
   },
   "outputs": [
    {
     "name": "stdout",
     "output_type": "stream",
     "text": [
      "_________________________________________________________________\n",
      "Layer (type)                 Output Shape              Param #   \n",
      "=================================================================\n",
      "lambda_1 (Lambda)            (None, 160, 320, 3)       0         \n",
      "_________________________________________________________________\n",
      "dropout_1 (Dropout)          (None, 160, 320, 3)       0         \n",
      "_________________________________________________________________\n",
      "conv2d_1 (Conv2D)            (None, 78, 158, 24)       1824      \n",
      "_________________________________________________________________\n",
      "conv2d_2 (Conv2D)            (None, 37, 77, 36)        21636     \n",
      "_________________________________________________________________\n",
      "conv2d_3 (Conv2D)            (None, 17, 37, 48)        43248     \n",
      "_________________________________________________________________\n",
      "conv2d_4 (Conv2D)            (None, 15, 35, 64)        27712     \n",
      "_________________________________________________________________\n",
      "conv2d_5 (Conv2D)            (None, 13, 33, 64)        36928     \n",
      "_________________________________________________________________\n",
      "flatten_1 (Flatten)          (None, 27456)             0         \n",
      "_________________________________________________________________\n",
      "dense_1 (Dense)              (None, 100)               2745700   \n",
      "_________________________________________________________________\n",
      "activation_1 (Activation)    (None, 100)               0         \n",
      "_________________________________________________________________\n",
      "dropout_2 (Dropout)          (None, 100)               0         \n",
      "_________________________________________________________________\n",
      "dense_2 (Dense)              (None, 50)                5050      \n",
      "_________________________________________________________________\n",
      "activation_2 (Activation)    (None, 50)                0         \n",
      "_________________________________________________________________\n",
      "dropout_3 (Dropout)          (None, 50)                0         \n",
      "_________________________________________________________________\n",
      "dense_3 (Dense)              (None, 10)                510       \n",
      "_________________________________________________________________\n",
      "activation_3 (Activation)    (None, 10)                0         \n",
      "_________________________________________________________________\n",
      "dense_4 (Dense)              (None, 1)                 11        \n",
      "=================================================================\n",
      "Total params: 2,882,619\n",
      "Trainable params: 2,882,619\n",
      "Non-trainable params: 0\n",
      "_________________________________________________________________\n"
     ]
    }
   ],
   "source": [
    "from keras.models import Sequential\n",
    "from keras.layers import Flatten,Dense,Lambda,Dense, Activation, Dropout\n",
    "from keras.layers.convolutional import Conv2D, Cropping2D\n",
    "from keras.layers.pooling import MaxPooling2D\n",
    "import matplotlib.pyplot as plt\n",
    "\n",
    "# compile and train the model using the generator function\n",
    "my_batch_size= 16 #128\n",
    "train_generator = generator(train_samples, batch_size=my_batch_size)\n",
    "validation_generator = generator(validation_samples, batch_size=my_batch_size)\n",
    "\n",
    "ch, row, col = 3, 160, 320  # Trimmed image format\n",
    "\n",
    "dropout_prob=0.1#0.8\n",
    "\n",
    "model=Sequential()\n",
    "#model.add(Lambda(lambda x: x/255.0 -0.5, input_shape=(160,320,3)))\n",
    "model.add(Lambda(lambda x: x/127.5 - 1.,  #\n",
    "        input_shape=(row, col,ch))) #,\n",
    "        #output_shape=(row, col, ch)))\n",
    "\n",
    "cropping= False\n",
    "if cropping:\n",
    "    model.add(Cropping2D(cropping=((50,20), (0,0)), input_shape=(160,320,3)))\n",
    "\n",
    "model.add(Dropout(dropout_prob))\n",
    "    \n",
    "##### 1st convolutional layer:\n",
    "model.add(Conv2D(24, kernel_size=(5, 5),\n",
    "                 strides = (2,2),\n",
    "                 activation='relu',\n",
    "                 padding='valid'))\n",
    "#model.add(MaxPooling2D(pool_size=(2, 2)))\n",
    "#model.add(Dropout(dropout_prob))\n",
    "\n",
    "##### 2nd convolutional layer:\n",
    "model.add(Conv2D(36, kernel_size=(5, 5),\n",
    "                 strides = (2,2),\n",
    "                 activation='relu',\n",
    "                 padding='valid'))\n",
    "#model.add(MaxPooling2D(pool_size=(2, 2)))\n",
    "#model.add(Dropout(dropout_prob))\n",
    "\n",
    "##### 3rd convolutional layer:\n",
    "model.add(Conv2D(48, kernel_size=(5, 5),\n",
    "                 strides = (2,2),\n",
    "                 activation='relu',\n",
    "                 padding='valid'))\n",
    "#model.add(MaxPooling2D(pool_size=(2, 2)))\n",
    "#model.add(Dropout(dropout_prob))\n",
    "\n",
    "##### 4th convolutional layer:\n",
    "model.add(Conv2D(64, kernel_size=(3, 3),\n",
    "                 strides = (1,1),\n",
    "                 activation='relu',\n",
    "                 padding='valid'))\n",
    "#model.add(MaxPooling2D(pool_size=(2, 2)))\n",
    "#model.add(Dropout(dropout_prob))\n",
    "\n",
    "##### 5th convolutional layer:\n",
    "model.add(Conv2D(64, kernel_size=(3, 3),\n",
    "                 strides = (1,1),\n",
    "                 activation='relu',\n",
    "                 padding='valid'))\n",
    "#model.add(MaxPooling2D(pool_size=(2, 2)))\n",
    "#model.add(Dropout(dropout_prob))\n",
    "\n",
    "model.add(Flatten())\n",
    "\n",
    "model.add(Dense(100))\n",
    "model.add(Activation('relu'))\n",
    "model.add(Dropout(dropout_prob))\n",
    "\n",
    "model.add(Dense(50))\n",
    "model.add(Activation('relu'))\n",
    "model.add(Dropout(dropout_prob))\n",
    "\n",
    "model.add(Dense(10))\n",
    "model.add(Activation('relu'))\n",
    "#model.add(Dropout(dropout_prob))\n",
    "\n",
    "model.add(Dense(1))\n",
    "\n",
    "\n",
    "model.summary()\n",
    "\n",
    "\n"
   ]
  },
  {
   "cell_type": "code",
   "execution_count": 4,
   "metadata": {},
   "outputs": [],
   "source": [
    "#model.add(Conv2D(6, kernel_size=(5, 5),\n",
    "#                 activation='relu',\n",
    "#                 padding='valid'))\n",
    "#model.add(MaxPooling2D(pool_size=(2, 2)))\n",
    "##model.add(Dropout(dropout_prob))\n",
    "#\n",
    "#model.add(Conv2D(32, kernel_size=(5, 5),\n",
    "#                 activation='relu', padding='valid'))\n",
    "#model.add(MaxPooling2D(pool_size=(2, 2)))\n",
    "##model.add(Dropout(dropout_prob))#\n",
    "#\n",
    "#model.add(Flatten())#\n",
    "#\n",
    "#model.add(Dense(120))\n",
    "#model.add(Activation('relu'))\n",
    "#model.add(Dropout(dropout_prob))#\n",
    "#\n",
    "#model.add(Dense(84))\n",
    "#model.add(Activation('relu'))\n",
    "#model.add(Dropout(dropout_prob))\n",
    "#\n",
    "#model.add(Dense(1))"
   ]
  },
  {
   "cell_type": "code",
   "execution_count": 5,
   "metadata": {
    "scrolled": true
   },
   "outputs": [
    {
     "name": "stdout",
     "output_type": "stream",
     "text": [
      "6428\n"
     ]
    },
    {
     "name": "stderr",
     "output_type": "stream",
     "text": [
      "/home/voll/anaconda3/envs/carnd-term1/lib/python3.5/site-packages/ipykernel_launcher.py:49: DeprecationWarning: `imread` is deprecated!\n",
      "`imread` is deprecated in SciPy 1.0.0.\n",
      "Use ``matplotlib.pyplot.imread`` instead.\n",
      "/home/voll/anaconda3/envs/carnd-term1/lib/python3.5/site-packages/ipykernel_launcher.py:50: DeprecationWarning: `imread` is deprecated!\n",
      "`imread` is deprecated in SciPy 1.0.0.\n",
      "Use ``matplotlib.pyplot.imread`` instead.\n",
      "/home/voll/anaconda3/envs/carnd-term1/lib/python3.5/site-packages/ipykernel_launcher.py:51: DeprecationWarning: `imread` is deprecated!\n",
      "`imread` is deprecated in SciPy 1.0.0.\n",
      "Use ``matplotlib.pyplot.imread`` instead.\n"
     ]
    },
    {
     "name": "stdout",
     "output_type": "stream",
     "text": [
      "Epoch 1/4\n",
      "401/401 [============================>.] - ETA: 0s - loss: 0.0119"
     ]
    },
    {
     "name": "stderr",
     "output_type": "stream",
     "text": [
      "/home/voll/anaconda3/envs/carnd-term1/lib/python3.5/site-packages/ipykernel_launcher.py:49: DeprecationWarning: `imread` is deprecated!\n",
      "`imread` is deprecated in SciPy 1.0.0.\n",
      "Use ``matplotlib.pyplot.imread`` instead.\n",
      "/home/voll/anaconda3/envs/carnd-term1/lib/python3.5/site-packages/ipykernel_launcher.py:50: DeprecationWarning: `imread` is deprecated!\n",
      "`imread` is deprecated in SciPy 1.0.0.\n",
      "Use ``matplotlib.pyplot.imread`` instead.\n",
      "/home/voll/anaconda3/envs/carnd-term1/lib/python3.5/site-packages/ipykernel_launcher.py:51: DeprecationWarning: `imread` is deprecated!\n",
      "`imread` is deprecated in SciPy 1.0.0.\n",
      "Use ``matplotlib.pyplot.imread`` instead.\n"
     ]
    },
    {
     "name": "stdout",
     "output_type": "stream",
     "text": [
      "402/401 [==============================] - 54s 134ms/step - loss: 0.0119 - val_loss: 0.0087\n",
      "Epoch 2/4\n",
      "401/401 [============================>.] - ETA: 0s - loss: 0.0100"
     ]
    },
    {
     "name": "stderr",
     "output_type": "stream",
     "text": [
      "/home/voll/anaconda3/envs/carnd-term1/lib/python3.5/site-packages/ipykernel_launcher.py:49: DeprecationWarning: `imread` is deprecated!\n",
      "`imread` is deprecated in SciPy 1.0.0.\n",
      "Use ``matplotlib.pyplot.imread`` instead.\n",
      "/home/voll/anaconda3/envs/carnd-term1/lib/python3.5/site-packages/ipykernel_launcher.py:50: DeprecationWarning: `imread` is deprecated!\n",
      "`imread` is deprecated in SciPy 1.0.0.\n",
      "Use ``matplotlib.pyplot.imread`` instead.\n",
      "/home/voll/anaconda3/envs/carnd-term1/lib/python3.5/site-packages/ipykernel_launcher.py:51: DeprecationWarning: `imread` is deprecated!\n",
      "`imread` is deprecated in SciPy 1.0.0.\n",
      "Use ``matplotlib.pyplot.imread`` instead.\n"
     ]
    },
    {
     "name": "stdout",
     "output_type": "stream",
     "text": [
      "402/401 [==============================] - 50s 124ms/step - loss: 0.0100 - val_loss: 0.0085\n",
      "Epoch 3/4\n",
      "401/401 [============================>.] - ETA: 0s - loss: 0.0096"
     ]
    },
    {
     "name": "stderr",
     "output_type": "stream",
     "text": [
      "/home/voll/anaconda3/envs/carnd-term1/lib/python3.5/site-packages/ipykernel_launcher.py:49: DeprecationWarning: `imread` is deprecated!\n",
      "`imread` is deprecated in SciPy 1.0.0.\n",
      "Use ``matplotlib.pyplot.imread`` instead.\n",
      "/home/voll/anaconda3/envs/carnd-term1/lib/python3.5/site-packages/ipykernel_launcher.py:50: DeprecationWarning: `imread` is deprecated!\n",
      "`imread` is deprecated in SciPy 1.0.0.\n",
      "Use ``matplotlib.pyplot.imread`` instead.\n",
      "/home/voll/anaconda3/envs/carnd-term1/lib/python3.5/site-packages/ipykernel_launcher.py:51: DeprecationWarning: `imread` is deprecated!\n",
      "`imread` is deprecated in SciPy 1.0.0.\n",
      "Use ``matplotlib.pyplot.imread`` instead.\n"
     ]
    },
    {
     "name": "stdout",
     "output_type": "stream",
     "text": [
      "402/401 [==============================] - 52s 128ms/step - loss: 0.0096 - val_loss: 0.0081\n",
      "Epoch 4/4\n",
      "401/401 [============================>.] - ETA: 0s - loss: 0.0091"
     ]
    },
    {
     "name": "stderr",
     "output_type": "stream",
     "text": [
      "/home/voll/anaconda3/envs/carnd-term1/lib/python3.5/site-packages/ipykernel_launcher.py:49: DeprecationWarning: `imread` is deprecated!\n",
      "`imread` is deprecated in SciPy 1.0.0.\n",
      "Use ``matplotlib.pyplot.imread`` instead.\n",
      "/home/voll/anaconda3/envs/carnd-term1/lib/python3.5/site-packages/ipykernel_launcher.py:50: DeprecationWarning: `imread` is deprecated!\n",
      "`imread` is deprecated in SciPy 1.0.0.\n",
      "Use ``matplotlib.pyplot.imread`` instead.\n",
      "/home/voll/anaconda3/envs/carnd-term1/lib/python3.5/site-packages/ipykernel_launcher.py:51: DeprecationWarning: `imread` is deprecated!\n",
      "`imread` is deprecated in SciPy 1.0.0.\n",
      "Use ``matplotlib.pyplot.imread`` instead.\n"
     ]
    },
    {
     "name": "stdout",
     "output_type": "stream",
     "text": [
      "\b\b\b\b\b\b\b\b\b\b\b\b\b\b\b\b\b\b\b\b\b\b\b\b\b\b\b\b\b\b\b\b\b\b\b\b\b\b\b\b\b\b\b\b\b\b\b\b\b\b\b\b\b\b\b\b\b\b\b\b\b\b\b\b\b\r",
      "402/401 [==============================] - 48s 121ms/step - loss: 0.0092 - val_loss: 0.0079\n"
     ]
    }
   ],
   "source": [
    "###########\n",
    "print(len(train_samples))\n",
    "model.compile(loss='mse',optimizer='adam')\n",
    "#history_object =  model.fit(X_train,y_train,validation_split=0.2,shuffle=True, epochs=4, verbose=1)\n",
    "#history_object =  model.fit_generator(train_generator, steps_per_epoch= \n",
    "#            len(train_samples),validation_steps= \n",
    "#            len(train_samples), validation_data=validaright_angle = center_angle - correctiontion_generator,  epochs=2, verbose=1)\n",
    "\n",
    "history_object =  model.fit_generator(train_generator, steps_per_epoch= len(train_samples)/my_batch_size, \n",
    "                    epochs=4,  verbose=1,\n",
    "            validation_data=validation_generator, validation_steps= len(validation_samples)/my_batch_size, use_multiprocessing=True\n",
    "            )"
   ]
  },
  {
   "cell_type": "code",
   "execution_count": 6,
   "metadata": {},
   "outputs": [
    {
     "name": "stdout",
     "output_type": "stream",
     "text": [
      "dict_keys(['val_loss', 'loss'])\n"
     ]
    },
    {
     "data": {
      "image/png": "[encoded data removed]",
      "text/plain": [
       "<matplotlib.figure.Figure at 0x7fe8201c86a0>"
      ]
     },
     "metadata": {},
     "output_type": "display_data"
    }
   ],
   "source": [
    "%matplotlib inline  \n",
    "\n",
    "\n",
    "print(history_object.history.keys())\n",
    "\n",
    "plt.plot(history_object.history['loss'])\n",
    "plt.plot(history_object.history['val_loss'])\n",
    "plt.title('model mean squared error loss')\n",
    "plt.ylabel('mean squared error loss')\n",
    "plt.xlabel('epoch')\n",
    "plt.legend(['training set', 'validation set'], loc='upper right')\n",
    "plt.show()\n",
    "\n",
    "\n",
    "##############\n",
    "model.save('model.h5')"
   ]
  },
  {
   "cell_type": "code",
   "execution_count": null,
   "metadata": {},
   "outputs": [],
   "source": [
    "\n"
   ]
  },
  {
   "cell_type": "code",
   "execution_count": 7,
   "metadata": {},
   "outputs": [
    {
     "data": {
      "text/plain": [
       "'2.0.9'"
      ]
     },
     "execution_count": 7,
     "metadata": {},
     "output_type": "execute_result"
    }
   ],
   "source": [
    "keras.__version__"
   ]
  },
  {
   "cell_type": "code",
   "execution_count": null,
   "metadata": {},
   "outputs": [],
   "source": []
  }
 ],
 "metadata": {
  "kernelspec": {
   "display_name": "Python 3",
   "language": "python",
   "name": "python3"
  },
  "language_info": {
   "codemirror_mode": {
    "name": "ipython",
    "version": 3
   },
   "file_extension": ".py",
   "mimetype": "text/x-python",
   "name": "python",
   "nbconvert_exporter": "python",
   "pygments_lexer": "ipython3",
   "version": "3.5.2"
  },
  "widgets": {
   "state": {},
   "version": "1.1.2"
  }
 },
 "nbformat": 4,
 "nbformat_minor": 2
}
