{
 "cells": [
  {
   "cell_type": "code",
   "execution_count": null,
   "metadata": {},
   "outputs": [],
   "source": []
  },
  {
   "cell_type": "code",
   "execution_count": 1,
   "metadata": {},
   "outputs": [
    {
     "name": "stderr",
     "output_type": "stream",
     "text": [
      "/home/voll/anaconda3/envs/carnd-term1/lib/python3.5/importlib/_bootstrap.py:222: RuntimeWarning: numpy.dtype size changed, may indicate binary incompatibility. Expected 96, got 88\n",
      "  return f(*args, **kwds)\n",
      "Using TensorFlow backend.\n",
      "/home/voll/anaconda3/envs/carnd-term1/lib/python3.5/importlib/_bootstrap.py:222: RuntimeWarning: numpy.dtype size changed, may indicate binary incompatibility. Expected 96, got 88\n",
      "  return f(*args, **kwds)\n",
      "/home/voll/anaconda3/envs/carnd-term1/lib/python3.5/importlib/_bootstrap.py:222: RuntimeWarning: numpy.dtype size changed, may indicate binary incompatibility. Expected 96, got 88\n",
      "  return f(*args, **kwds)\n",
      "/home/voll/anaconda3/envs/carnd-term1/lib/python3.5/importlib/_bootstrap.py:222: RuntimeWarning: numpy.dtype size changed, may indicate binary incompatibility. Expected 96, got 88\n",
      "  return f(*args, **kwds)\n",
      "/home/voll/anaconda3/envs/carnd-term1/lib/python3.5/importlib/_bootstrap.py:222: RuntimeWarning: numpy.dtype size changed, may indicate binary incompatibility. Expected 96, got 88\n",
      "  return f(*args, **kwds)\n",
      "/home/voll/anaconda3/envs/carnd-term1/lib/python3.5/importlib/_bootstrap.py:222: RuntimeWarning: numpy.dtype size changed, may indicate binary incompatibility. Expected 96, got 88\n",
      "  return f(*args, **kwds)\n"
     ]
    }
   ],
   "source": [
    "import os\n",
    "import csv\n",
    "import cv2\n",
    "import numpy as np\n",
    "import keras\n",
    "from scipy import ndimage\n",
    "from random import shuffle\n",
    "\n",
    "\n",
    "\n",
    "lines=[]\n",
    "with open('data/data/driving_log.csv') as csvfile:\n",
    "    reader=csv.reader(csvfile)\n",
    "    i_have_seen_firstline=False\n",
    "    for line in reader:\n",
    "        if i_have_seen_firstline:\n",
    "            lines.append(line)\n",
    "        else:\n",
    "            i_have_seen_firstline = True\n",
    "#              \n",
    "\n",
    "#\n",
    "import sklearn\n",
    "\n",
    "from sklearn.model_selection import train_test_split\n",
    "train_samples, validation_samples = train_test_split(lines, test_size=0.2)         \n",
    "\n",
    "\n",
    "def generator(samples, batch_size=32):\n",
    "    num_samples = len(samples)\n",
    "    while 1: # Loop forever so the generator never terminates\n",
    "        shuffle(samples)\n",
    "        for offset in range(0, num_samples, batch_size):\n",
    "            batch_samples = samples[offset:offset+batch_size]\n",
    "\n",
    "            images = []\n",
    "            angles = []\n",
    "            for batch_sample in batch_samples:\n",
    "                #name = './IMG/'+batch_sample[0].split('/')[-1]\n",
    "                source_path = line[0]\n",
    "                filename= source_path.split('/')[-1]\n",
    "                current_path = 'data/data/IMG/' + filename\n",
    "                #center_image = cv2.imread(current_path)\n",
    "                center_image = ndimage.imread(current_path)\n",
    "                center_angle = float(batch_sample[3])\n",
    "                images.append(center_image)\n",
    "                angles.append(center_angle)\n",
    "\n",
    "            # trim image to only see section with road\n",
    "            X_train = np.array(images)\n",
    "            y_train = np.array(angles)\n",
    "            yield sklearn.utils.shuffle(X_train, y_train)\n",
    "\n",
    "#images=[]\n",
    "#measurements=[]\n",
    "#for line in lines:\n",
    "#    source_path = line[0]\n",
    "#    filename= source_path.split('/')[-1]\n",
    "#    current_path = 'data/data/IMG/' + filename\n",
    "#    #image=cv2.imread(current_path)\n",
    "#    image = ndimage.imread(current_path)\n",
    "#    images.append(image)\n",
    "#    measurement=float(line[3])\n",
    "#    measurements.append(measurement)\n",
    "    \n",
    "#\n",
    "augment_by_flipping=False\n",
    "if augment_by_flipping:\n",
    "    augmented_images, augmented_measurements = [],[]\n",
    "    for image,measurement in zip(images, measurements):\n",
    "        augmented_images.append(image)\n",
    "        augmented_measurements.append(measurement)\n",
    "        augmented_images.append(cv2.flip(image,1))\n",
    "        augmented_measurements.append(measurement*-1.0)\n",
    "else:\n",
    "    None\n",
    "#    augmented_images, augmented_measurements =images,measurements\n",
    "    \n",
    "    \n",
    "\n",
    "#X_train = np.array(augmented_images)\n",
    "#y_train = np.array(augmented_measurements)"
   ]
  },
  {
   "cell_type": "code",
   "execution_count": null,
   "metadata": {},
   "outputs": [],
   "source": [
    "\n"
   ]
  },
  {
   "cell_type": "code",
   "execution_count": 2,
   "metadata": {},
   "outputs": [],
   "source": [
    "#print(X_train.shape)\n",
    "#print(np.mean(y_train**2* 180/3.14*16)) # convert from rad to deg and then to steerin-WEEL-angle \n"
   ]
  },
  {
   "cell_type": "code",
   "execution_count": 3,
   "metadata": {
    "scrolled": true
   },
   "outputs": [
    {
     "name": "stdout",
     "output_type": "stream",
     "text": [
      "_________________________________________________________________\n",
      "Layer (type)                 Output Shape              Param #   \n",
      "=================================================================\n",
      "lambda_1 (Lambda)            (None, 160, 320, 3)       0         \n",
      "_________________________________________________________________\n",
      "conv2d_1 (Conv2D)            (None, 156, 316, 6)       456       \n",
      "_________________________________________________________________\n",
      "max_pooling2d_1 (MaxPooling2 (None, 78, 158, 6)        0         \n",
      "_________________________________________________________________\n",
      "dropout_1 (Dropout)          (None, 78, 158, 6)        0         \n",
      "_________________________________________________________________\n",
      "conv2d_2 (Conv2D)            (None, 74, 154, 32)       4832      \n",
      "_________________________________________________________________\n",
      "max_pooling2d_2 (MaxPooling2 (None, 37, 77, 32)        0         \n",
      "_________________________________________________________________\n",
      "dropout_2 (Dropout)          (None, 37, 77, 32)        0         \n",
      "_________________________________________________________________\n",
      "flatten_1 (Flatten)          (None, 91168)             0         \n",
      "_________________________________________________________________\n",
      "dense_1 (Dense)              (None, 120)               10940280  \n",
      "_________________________________________________________________\n",
      "activation_1 (Activation)    (None, 120)               0         \n",
      "_________________________________________________________________\n",
      "dropout_3 (Dropout)          (None, 120)               0         \n",
      "_________________________________________________________________\n",
      "dense_2 (Dense)              (None, 84)                10164     \n",
      "_________________________________________________________________\n",
      "activation_2 (Activation)    (None, 84)                0         \n",
      "_________________________________________________________________\n",
      "dropout_4 (Dropout)          (None, 84)                0         \n",
      "_________________________________________________________________\n",
      "dense_3 (Dense)              (None, 1)                 85        \n",
      "=================================================================\n",
      "Total params: 10,955,817\n",
      "Trainable params: 10,955,817\n",
      "Non-trainable params: 0\n",
      "_________________________________________________________________\n"
     ]
    }
   ],
   "source": [
    "from keras.models import Sequential\n",
    "from keras.layers import Flatten,Dense,Lambda,Dense, Activation, Dropout\n",
    "from keras.layers.convolutional import Conv2D, Cropping2D\n",
    "from keras.layers.pooling import MaxPooling2D\n",
    "import matplotlib.pyplot as plt\n",
    "\n",
    "# compile and train the model using the generator function\n",
    "my_batch_size= 16\n",
    "train_generator = generator(train_samples, batch_size=my_batch_size)\n",
    "validation_generator = generator(validation_samples, batch_size=my_batch_size)\n",
    "\n",
    "ch, row, col = 3, 160, 320  # Trimmed image format\n",
    "\n",
    "dropout_prob=0.5\n",
    "\n",
    "model=Sequential()\n",
    "#model.add(Lambda(lambda x: x/255.0 -0.5, input_shape=(160,320,3)))\n",
    "model.add(Lambda(lambda x: x/255.0 -0.5,  #127.5 - 1.\n",
    "        input_shape=(row, col,ch))) #,\n",
    "        #output_shape=(row, col, ch)))\n",
    "\n",
    "cropping= False\n",
    "if cropping:\n",
    "    model.add(Cropping2D(cropping=((50,20), (0,0)), input_shape=(3,160,320)))\n",
    "#model.add(Flatten())\n",
    "model.add(Conv2D(6, kernel_size=(5, 5),\n",
    "                 activation='relu',\n",
    "                 input_shape=(90, 320, 3), padding='valid'))\n",
    "model.add(MaxPooling2D(pool_size=(2, 2)))\n",
    "model.add(Dropout(dropout_prob))\n",
    "\n",
    "model.add(Conv2D(32, kernel_size=(5, 5),\n",
    "                 activation='relu', padding='valid'))\n",
    "model.add(MaxPooling2D(pool_size=(2, 2)))\n",
    "model.add(Dropout(dropout_prob))\n",
    "\n",
    "model.add(Flatten())\n",
    "\n",
    "model.add(Dense(120))\n",
    "model.add(Activation('relu'))\n",
    "model.add(Dropout(dropout_prob))\n",
    "\n",
    "model.add(Dense(84))\n",
    "model.add(Activation('relu'))\n",
    "model.add(Dropout(dropout_prob))\n",
    "\n",
    "model.add(Dense(1))\n",
    "\n",
    "model.summary()\n",
    "\n",
    "\n"
   ]
  },
  {
   "cell_type": "code",
   "execution_count": 4,
   "metadata": {},
   "outputs": [
    {
     "name": "stdout",
     "output_type": "stream",
     "text": [
      "6428\n"
     ]
    },
    {
     "name": "stderr",
     "output_type": "stream",
     "text": [
      "/home/voll/anaconda3/envs/carnd-term1/lib/python3.5/site-packages/ipykernel_launcher.py:44: DeprecationWarning: `imread` is deprecated!\n",
      "`imread` is deprecated in SciPy 1.0.0.\n",
      "Use ``matplotlib.pyplot.imread`` instead.\n"
     ]
    },
    {
     "name": "stdout",
     "output_type": "stream",
     "text": [
      "Epoch 1/4\n",
      "6426/6428 [============================>.] - ETA: 0s - loss: 0.0237"
     ]
    },
    {
     "name": "stderr",
     "output_type": "stream",
     "text": [
      "/home/voll/anaconda3/envs/carnd-term1/lib/python3.5/site-packages/ipykernel_launcher.py:44: DeprecationWarning: `imread` is deprecated!\n",
      "`imread` is deprecated in SciPy 1.0.0.\n",
      "Use ``matplotlib.pyplot.imread`` instead.\n"
     ]
    },
    {
     "name": "stdout",
     "output_type": "stream",
     "text": [
      "6428/6428 [==============================] - 393s 61ms/step - loss: 0.0237 - val_loss: 0.0176\n",
      "Epoch 2/4\n",
      "6426/6428 [============================>.] - ETA: 0s - loss: 0.0163"
     ]
    },
    {
     "name": "stderr",
     "output_type": "stream",
     "text": [
      "/home/voll/anaconda3/envs/carnd-term1/lib/python3.5/site-packages/ipykernel_launcher.py:44: DeprecationWarning: `imread` is deprecated!\n",
      "`imread` is deprecated in SciPy 1.0.0.\n",
      "Use ``matplotlib.pyplot.imread`` instead.\n"
     ]
    },
    {
     "name": "stdout",
     "output_type": "stream",
     "text": [
      "6428/6428 [==============================] - 370s 58ms/step - loss: 0.0163 - val_loss: 0.0177\n",
      "Epoch 3/4\n",
      "6427/6428 [============================>.] - ETA: 0s - loss: 0.0163"
     ]
    },
    {
     "name": "stderr",
     "output_type": "stream",
     "text": [
      "/home/voll/anaconda3/envs/carnd-term1/lib/python3.5/site-packages/ipykernel_launcher.py:44: DeprecationWarning: `imread` is deprecated!\n",
      "`imread` is deprecated in SciPy 1.0.0.\n",
      "Use ``matplotlib.pyplot.imread`` instead.\n"
     ]
    },
    {
     "name": "stdout",
     "output_type": "stream",
     "text": [
      "6428/6428 [==============================] - 313s 49ms/step - loss: 0.0163 - val_loss: 0.0177\n",
      "Epoch 4/4\n",
      "6426/6428 [============================>.] - ETA: 0s - loss: 0.0164"
     ]
    },
    {
     "name": "stderr",
     "output_type": "stream",
     "text": [
      "/home/voll/anaconda3/envs/carnd-term1/lib/python3.5/site-packages/ipykernel_launcher.py:44: DeprecationWarning: `imread` is deprecated!\n",
      "`imread` is deprecated in SciPy 1.0.0.\n",
      "Use ``matplotlib.pyplot.imread`` instead.\n"
     ]
    },
    {
     "name": "stdout",
     "output_type": "stream",
     "text": [
      "\b\b\b\b\b\b\b\b\b\b\b\b\b\b\b\b\b\b\b\b\b\b\b\b\b\b\b\b\b\b\b\b\b\b\b\b\b\b\b\b\b\b\b\b\b\b\b\b\b\b\b\b\b\b\b\b\b\b\b\b\b\b\b\b\b\b\b\r",
      "6428/6428 [==============================] - 298s 46ms/step - loss: 0.0164 - val_loss: 0.0177\n"
     ]
    }
   ],
   "source": [
    "###########\n",
    "print(len(train_samples))\n",
    "model.compile(loss='mse',optimizer='adam')\n",
    "#history_object =  model.fit(X_train,y_train,validation_split=0.2,shuffle=True, epochs=4, verbose=1)\n",
    "#history_object =  model.fit_generator(train_generator, steps_per_epoch= \n",
    "#            len(train_samples),validation_steps= \n",
    "#            len(train_samples), validation_data=validation_generator,  epochs=4, verbose=1)\n",
    "\n",
    "history_object =  model.fit_generator(train_generator, steps_per_epoch= len(train_samples), \n",
    "                    epochs=4,  verbose=1,\n",
    "            validation_data=validation_generator, validation_steps= len(validation_samples),\n",
    "            use_multiprocessing=True\n",
    "            )"
   ]
  },
  {
   "cell_type": "code",
   "execution_count": 5,
   "metadata": {},
   "outputs": [
    {
     "name": "stdout",
     "output_type": "stream",
     "text": [
      "dict_keys(['val_loss', 'loss'])\n"
     ]
    },
    {
     "data": {
      "image/png": "[encoded data removed]",
      "text/plain": [
       "<matplotlib.figure.Figure at 0x7f1ca40c7710>"
      ]
     },
     "metadata": {},
     "output_type": "display_data"
    }
   ],
   "source": [
    "%matplotlib inline  \n",
    "\n",
    "\n",
    "print(history_object.history.keys())\n",
    "\n",
    "plt.plot(history_object.history['loss'])\n",
    "plt.plot(history_object.history['val_loss'])\n",
    "plt.title('model mean squared error loss')\n",
    "plt.ylabel('mean squared error loss')\n",
    "plt.xlabel('epoch')\n",
    "plt.legend(['training set', 'validation set'], loc='upper right')\n",
    "plt.show()\n",
    "\n",
    "\n",
    "##############\n",
    "model.save('model.h5')"
   ]
  },
  {
   "cell_type": "code",
   "execution_count": null,
   "metadata": {},
   "outputs": [],
   "source": []
  },
  {
   "cell_type": "code",
   "execution_count": null,
   "metadata": {},
   "outputs": [],
   "source": []
  },
  {
   "cell_type": "code",
   "execution_count": null,
   "metadata": {},
   "outputs": [],
   "source": []
  }
 ],
 "metadata": {
  "kernelspec": {
   "display_name": "Python 3",
   "language": "python",
   "name": "python3"
  },
  "language_info": {
   "codemirror_mode": {
    "name": "ipython",
    "version": 3
   },
   "file_extension": ".py",
   "mimetype": "text/x-python",
   "name": "python",
   "nbconvert_exporter": "python",
   "pygments_lexer": "ipython3",
   "version": "3.5.2"
  },
  "widgets": {
   "state": {},
   "version": "1.1.2"
  }
 },
 "nbformat": 4,
 "nbformat_minor": 2
}
